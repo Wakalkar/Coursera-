{
 "cells": [
  {
   "cell_type": "markdown",
   "id": "46d93e47",
   "metadata": {},
   "source": [
    "# Data Science Tools and Ecosystem"
   ]
  },
  {
   "cell_type": "markdown",
   "id": "839bc89c",
   "metadata": {},
   "source": [
    "In this notebook, Data Science Tools and Ecosystem are summarized."
   ]
  },
  {
   "cell_type": "markdown",
   "id": "29ebf0ba",
   "metadata": {},
   "source": [
    "Some of the popular languages that Data Scientists use are:\n",
    "- Python\n",
    "- R\n",
    "- Java"
   ]
  },
  {
   "cell_type": "markdown",
   "id": "91d94f7b",
   "metadata": {},
   "source": [
    "Some of the commonly used libraries used by Data Scientists include:\n",
    "- NumPy\n",
    "- Panda\n",
    "- Matplotlib"
   ]
  },
  {
   "cell_type": "markdown",
   "id": "0131f769",
   "metadata": {},
   "source": [
    "# Data Science Tools\n",
    "Jupyter Notebook\n",
    "RStudio\n",
    "VS Code (Visual Studio Code)\n",
    "\n",
    "\n"
   ]
  },
  {
   "cell_type": "markdown",
   "id": "bf83d6ce",
   "metadata": {},
   "source": [
    "### Below are a few examples of evaluating arithmetic expressions in Python"
   ]
  },
  {
   "cell_type": "code",
   "execution_count": 2,
   "id": "695ddb4e",
   "metadata": {},
   "outputs": [
    {
     "data": {
      "text/plain": [
       "17"
      ]
     },
     "execution_count": 2,
     "metadata": {},
     "output_type": "execute_result"
    }
   ],
   "source": [
    "#This a simple arithmetic expression to mutiply then add integers#\n",
    "(3*4)+5 "
   ]
  },
  {
   "cell_type": "code",
   "execution_count": 3,
   "id": "fb8c7ccb",
   "metadata": {},
   "outputs": [
    {
     "data": {
      "text/plain": [
       "3.3333333333333335"
      ]
     },
     "execution_count": 3,
     "metadata": {},
     "output_type": "execute_result"
    }
   ],
   "source": [
    "#This will convert 200 minutes to hours by diving by 60#\n",
    "hours = 200 / 60\n",
    "hours"
   ]
  },
  {
   "cell_type": "markdown",
   "id": "be140516",
   "metadata": {},
   "source": [
    "**Objectives:**\n",
    "- Understand the importance of Data Science in solving real-world problems.\n",
    "Data Science plays a crucial role in solving real-world problems by leveraging data to make informed decisions and drive innovation. \n",
    "- List popular languages for Data Science.\n",
    " Python,R,Java\n",
    "- Explore open-source tools commonly used in Data Science.\n",
    "here are a wide variety of open-source tools that are popular in the data science community, each tailored to different stages of the data science workflow, from data collection and cleaning to analysis and visualization\n",
    "- Identify development environments for data analysis.\n",
    "When it comes to development environments for data analysis, there are several tools and platforms designed to make the workflow easier, more efficient, and collaborative.\n",
    "- Learn the basics of data manipulation and visualization.\n",
    "Learning the basics of data manipulation and visualization is an essential skill for anyone getting into data science. These tasks help transform raw data into insights and make it easier to interpret. Let’s break down the fundamental concepts of each, along with some basic examples using popular tools like Pandas (for data manipulation) and Matplotlib/ Seaborn (for data visualization) in Python.\n",
    "\n"
   ]
  },
  {
   "cell_type": "markdown",
   "id": "db0db303",
   "metadata": {},
   "source": [
    "# Author\n",
    "name- Aditya Wakalkar\n"
   ]
  }
 ],
 "metadata": {
  "kernelspec": {
   "display_name": "Python 3 (ipykernel)",
   "language": "python",
   "name": "python3"
  },
  "language_info": {
   "codemirror_mode": {
    "name": "ipython",
    "version": 3
   },
   "file_extension": ".py",
   "mimetype": "text/x-python",
   "name": "python",
   "nbconvert_exporter": "python",
   "pygments_lexer": "ipython3",
   "version": "3.11.5"
  }
 },
 "nbformat": 4,
 "nbformat_minor": 5
}
